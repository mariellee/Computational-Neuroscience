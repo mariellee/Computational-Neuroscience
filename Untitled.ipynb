{
 "cells": [
  {
   "cell_type": "code",
   "execution_count": 3,
   "metadata": {},
   "outputs": [
    {
     "name": "stdout",
     "output_type": "stream",
     "text": [
      "(672528, 25)\n",
      "(603, 3)\n"
     ]
    }
   ],
   "source": [
    "import pandas as pd\n",
    "import numpy as np\n",
    "\n",
    "train = pd.read_csv(\"A01TInstances.csv\", header=None)\n",
    "labels = pd.read_csv(\"A01TLabels.csv\", header=None)\n",
    "print(train.shape)\n",
    "print(labels.shape)"
   ]
  },
  {
   "cell_type": "code",
   "execution_count": 4,
   "metadata": {},
   "outputs": [
    {
     "data": {
      "text/html": [
       "<div>\n",
       "<style>\n",
       "    .dataframe thead tr:only-child th {\n",
       "        text-align: right;\n",
       "    }\n",
       "\n",
       "    .dataframe thead th {\n",
       "        text-align: left;\n",
       "    }\n",
       "\n",
       "    .dataframe tbody tr th {\n",
       "        vertical-align: top;\n",
       "    }\n",
       "</style>\n",
       "<table border=\"1\" class=\"dataframe\">\n",
       "  <thead>\n",
       "    <tr style=\"text-align: right;\">\n",
       "      <th></th>\n",
       "      <th>0</th>\n",
       "      <th>1</th>\n",
       "      <th>2</th>\n",
       "    </tr>\n",
       "  </thead>\n",
       "  <tbody>\n",
       "    <tr>\n",
       "      <th>0</th>\n",
       "      <td>32766</td>\n",
       "      <td>1</td>\n",
       "      <td>0</td>\n",
       "    </tr>\n",
       "    <tr>\n",
       "      <th>1</th>\n",
       "      <td>276</td>\n",
       "      <td>1</td>\n",
       "      <td>29682</td>\n",
       "    </tr>\n",
       "    <tr>\n",
       "      <th>2</th>\n",
       "      <td>32766</td>\n",
       "      <td>29684</td>\n",
       "      <td>0</td>\n",
       "    </tr>\n",
       "    <tr>\n",
       "      <th>3</th>\n",
       "      <td>277</td>\n",
       "      <td>29684</td>\n",
       "      <td>20271</td>\n",
       "    </tr>\n",
       "    <tr>\n",
       "      <th>4</th>\n",
       "      <td>32766</td>\n",
       "      <td>49956</td>\n",
       "      <td>0</td>\n",
       "    </tr>\n",
       "  </tbody>\n",
       "</table>\n",
       "</div>"
      ],
      "text/plain": [
       "       0      1      2\n",
       "0  32766      1      0\n",
       "1    276      1  29682\n",
       "2  32766  29684      0\n",
       "3    277  29684  20271\n",
       "4  32766  49956      0"
      ]
     },
     "execution_count": 4,
     "metadata": {},
     "output_type": "execute_result"
    }
   ],
   "source": [
    "labels.head()"
   ]
  },
  {
   "cell_type": "code",
   "execution_count": 5,
   "metadata": {
    "collapsed": true
   },
   "outputs": [],
   "source": [
    "label_results = [0] * 672528\n"
   ]
  },
  {
   "cell_type": "code",
   "execution_count": 6,
   "metadata": {
    "collapsed": true
   },
   "outputs": [],
   "source": [
    "\n",
    "for index, row in labels.iterrows():\n",
    "    label = row[0]\n",
    "    row_nr = row[1]\n",
    "    duration = row[2]\n",
    "    for i in range(duration):\n",
    "        current_label = label_results[row_nr + i - 1]\n",
    "        if label == 769 or label == 770:\n",
    "            if current_label == 769 and label == 770:  #Maybe there are cases where the label is 769 and 770 at the same time\n",
    "                print(\"big problem1\")\n",
    "            elif current_label == 770 and label == 769:\n",
    "                print(\"big problem2\")\n",
    "            label_results[row_nr + i - 1] = label\n",
    "        elif current_label != 769 and current_label != 770:\n",
    "            label_results[row_nr + i - 1] = 1\n",
    "    \n",
    "\n",
    "se = pd.Series(label_results)\n",
    "train['label'] = se.values\n"
   ]
  },
  {
   "cell_type": "code",
   "execution_count": 7,
   "metadata": {},
   "outputs": [
    {
     "name": "stdout",
     "output_type": "stream",
     "text": [
      "(22500, 26)\n",
      "(22487, 26)\n",
      "(22536, 26)\n",
      "(67523, 26)\n"
     ]
    }
   ],
   "source": [
    "data = train.loc[train['label'] != 0]\n",
    "data=data.dropna()\n",
    "other_data = data[data.label == 1]\n",
    "other_data = other_data.loc[np.random.choice(other_data.index, size=22500)]\n",
    "hand1_data = data[data.label == 770]\n",
    "hand2_data = data[data.label == 769]\n",
    "\n",
    "new_data = pd.concat([hand1_data, hand2_data, other_data])\n",
    "\n",
    "print(other_data.shape)\n",
    "print(hand1_data.shape)\n",
    "print(hand2_data.shape)\n",
    "print(new_data.shape)"
   ]
  },
  {
   "cell_type": "code",
   "execution_count": 51,
   "metadata": {
    "collapsed": true
   },
   "outputs": [],
   "source": [
    "#train[train.label==769]\n",
    "#train.iloc[10500]"
   ]
  },
  {
   "cell_type": "code",
   "execution_count": 10,
   "metadata": {},
   "outputs": [],
   "source": [
    "from sklearn.model_selection import train_test_split\n",
    "from sklearn.tree import DecisionTreeClassifier\n",
    "from sklearn.ensemble import RandomForestClassifier\n",
    "from sklearn.metrics import accuracy_score\n",
    "X_train, X_test, y_train, y_test = train_test_split(new_data.drop([\"label\"], axis = 1),\n",
    "                                                    new_data[\"label\"], test_size = 0.5, random_state = 0)\n"
   ]
  },
  {
   "cell_type": "code",
   "execution_count": 11,
   "metadata": {},
   "outputs": [],
   "source": [
    "#df = X_train.drop(labels='label', axis=1)\n"
   ]
  },
  {
   "cell_type": "code",
   "execution_count": 12,
   "metadata": {},
   "outputs": [
    {
     "data": {
      "text/plain": [
       "40.12025710138918"
      ]
     },
     "execution_count": 12,
     "metadata": {},
     "output_type": "execute_result"
    }
   ],
   "source": [
    "dt = DecisionTreeClassifier( max_depth=5)    #interprete dt\n",
    "dt.fit(X_train, y_train) # fit the model\n",
    "y_pred_tr = dt.predict(X_train)   #predict on training\n",
    "y_pred = dt.predict(X_test)   #predict on test\n",
    "accuracy_score(y_test,y_pred)*100   #calculate the accuracy test\n",
    "accuracy_score(y_train,y_pred_tr)*100 #calculate the accuracy training"
   ]
  },
  {
   "cell_type": "code",
   "execution_count": null,
   "metadata": {
    "collapsed": true
   },
   "outputs": [],
   "source": []
  },
  {
   "cell_type": "code",
   "execution_count": null,
   "metadata": {
    "collapsed": true
   },
   "outputs": [],
   "source": []
  }
 ],
 "metadata": {
  "kernelspec": {
   "display_name": "Python 3",
   "language": "python",
   "name": "python3"
  },
  "language_info": {
   "codemirror_mode": {
    "name": "ipython",
    "version": 3
   },
   "file_extension": ".py",
   "mimetype": "text/x-python",
   "name": "python",
   "nbconvert_exporter": "python",
   "pygments_lexer": "ipython3",
   "version": "3.6.1"
  }
 },
 "nbformat": 4,
 "nbformat_minor": 2
}
