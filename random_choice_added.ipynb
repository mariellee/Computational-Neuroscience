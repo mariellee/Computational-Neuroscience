{
 "cells": [
  {
   "cell_type": "code",
   "execution_count": 36,
   "metadata": {
    "collapsed": false
   },
   "outputs": [
    {
     "name": "stdout",
     "output_type": "stream",
     "text": [
      "(672528, 25)\n",
      "(603, 3)\n"
     ]
    }
   ],
   "source": [
    "import pandas as pd\n",
    "import numpy as np\n",
    "\n",
    "train = pd.read_csv(\"C:/kool/sissejuhatus arvutuslikku neuroteadusesse/project/traindata/A01TInstances.csv\", header=None)\n",
    "labels = pd.read_csv(\"C:/kool/sissejuhatus arvutuslikku neuroteadusesse/project/traindata/A01TLabels.csv\", header=None)\n",
    "\n",
    "print(train.shape)\n",
    "print(labels.shape)"
   ]
  },
  {
   "cell_type": "code",
   "execution_count": 41,
   "metadata": {
    "collapsed": false,
    "scrolled": true
   },
   "outputs": [],
   "source": [
    "label_results = [0] * 672528\n",
    "\n",
    "for index, row in labels.iterrows():\n",
    "    label = row[0]\n",
    "    row_nr = row[1]\n",
    "    duration = row[2]\n",
    "    for i in range(duration):\n",
    "        current_label = label_results[row_nr + i - 1]\n",
    "        if label == 769 or label == 770:\n",
    "            if current_label == 769 and label == 770:  #Maybe there are cases where the label is 769 and 770 at the same time\n",
    "                print(\"big problem1\")\n",
    "            elif current_label == 770 and label == 769:\n",
    "                print(\"big problem2\")\n",
    "            label_results[row_nr + i - 1] = label\n",
    "        elif current_label != 769 and current_label != 770:\n",
    "            label_results[row_nr + i - 1] = 1\n",
    "\n",
    "    \n",
    "se = pd.Series(label_results)\n",
    "train['label'] = se.values"
   ]
  },
  {
   "cell_type": "code",
   "execution_count": 60,
   "metadata": {
    "collapsed": false,
    "scrolled": true
   },
   "outputs": [
    {
     "name": "stdout",
     "output_type": "stream",
     "text": [
      "(22500, 26)\n",
      "(22487, 26)\n",
      "(22536, 26)\n",
      "(67523, 26)\n"
     ]
    }
   ],
   "source": [
    "data = train[train.label != 0]\n",
    "data = data.dropna()\n",
    "other_data = data[data.label == 1]\n",
    "other_data = other_data.loc[np.random.choice(other_data.index, size=22500)]\n",
    "hand1_data = data[data.label == 770]\n",
    "hand2_data = data[data.label == 769]\n",
    "\n",
    "new_data = pd.concat([data1, data2, other_data])\n",
    "\n",
    "print(other_data.shape)\n",
    "print(data1.shape)\n",
    "print(data2.shape)\n",
    "print(new_data.shape)"
   ]
  },
  {
   "cell_type": "code",
   "execution_count": null,
   "metadata": {
    "collapsed": true
   },
   "outputs": [],
   "source": []
  },
  {
   "cell_type": "code",
   "execution_count": null,
   "metadata": {
    "collapsed": true
   },
   "outputs": [],
   "source": []
  }
 ],
 "metadata": {
  "kernelspec": {
   "display_name": "Python 3",
   "language": "python",
   "name": "python3"
  }
 },
 "nbformat": 4,
 "nbformat_minor": 2
}
