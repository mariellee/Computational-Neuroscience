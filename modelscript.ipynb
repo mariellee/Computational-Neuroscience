{
 "cells": [
  {
   "cell_type": "code",
   "execution_count": 100,
   "metadata": {
    "collapsed": true
   },
   "outputs": [],
   "source": [
    "import pandas as pd\n",
    "import numpy as np\n",
    "import string\n",
    "\n",
    "from sklearn.model_selection import train_test_split\n",
    "from sklearn.discriminant_analysis import LinearDiscriminantAnalysis \n",
    "from sklearn.neighbors import KNeighborsClassifier\n",
    "from sklearn.metrics import precision_score\n",
    "from sklearn.metrics import confusion_matrix\n",
    "from sklearn.metrics import accuracy_score"
   ]
  },
  {
   "cell_type": "code",
   "execution_count": 122,
   "metadata": {},
   "outputs": [
    {
     "name": "stdout",
     "output_type": "stream",
     "text": [
      "Path  C:/Users/natiami/Downloads/Neuro/Project/traindata/A01TInstances.csv\n",
      "(672528, 25)\n",
      "Path  C:/Users/natiami/Downloads/Neuro/Project/traindata/A02TInstances.csv\n",
      "(1349697, 25)\n",
      "Path  C:/Users/natiami/Downloads/Neuro/Project/traindata/A03TInstances.csv\n",
      "(2010227, 25)\n",
      "Path  C:/Users/natiami/Downloads/Neuro/Project/traindata/A04TInstances.csv\n",
      "(2611142, 25)\n",
      "Path  C:/Users/natiami/Downloads/Neuro/Project/traindata/A05TInstances.csv\n",
      "(3297262, 25)\n",
      "Path  C:/Users/natiami/Downloads/Neuro/Project/traindata/A06TInstances.csv\n",
      "(3976242, 25)\n",
      "Path  C:/Users/natiami/Downloads/Neuro/Project/traindata/A07TInstances.csv\n",
      "(4657313, 25)\n",
      "Path  C:/Users/natiami/Downloads/Neuro/Project/traindata/A08TInstances.csv\n",
      "(5332583, 25)\n",
      "Path  C:/Users/natiami/Downloads/Neuro/Project/traindata/A09TInstances.csv\n",
      "(6005911, 25)\n",
      "Final data shapes\n",
      "Data:  (6005911, 25)\n",
      "Labels:  (5552, 3)\n"
     ]
    }
   ],
   "source": [
    "train = pd.DataFrame()\n",
    "labels = pd.DataFrame()\n",
    "path_file = \"C:/Users/natiami/Downloads/Neuro/Project/traindata/A01TInstances.csv\"\n",
    "path_label = \"C:/Users/natiami/Downloads/Neuro/Project/traindata/A01TLabels.csv\"\n",
    "\n",
    "for i in range(9):\n",
    "    print(\"Path \", path_file)\n",
    "    \n",
    "    feature = pd.read_csv(path_file, header=None)\n",
    "    train = train.append(feature)\n",
    "    \n",
    "    label = pd.read_csv(path_label, header=None)\n",
    "    labels = labels.append(label)\n",
    "\n",
    "    path_file = path_file.replace(str(i+1), str(i+2))\n",
    "    path_label = path_label.replace(str(i+1), str(i+2))\n",
    "    \n",
    "    # Print updated data dimensions\n",
    "    print(train.shape)\n",
    "\n",
    "print(\"Final data shapes\")\n",
    "print(\"Data: \", train.shape)\n",
    "print(\"Labels: \", labels.shape)"
   ]
  },
  {
   "cell_type": "code",
   "execution_count": 127,
   "metadata": {},
   "outputs": [
    {
     "data": {
      "text/html": [
       "<div>\n",
       "<style>\n",
       "    .dataframe thead tr:only-child th {\n",
       "        text-align: right;\n",
       "    }\n",
       "\n",
       "    .dataframe thead th {\n",
       "        text-align: left;\n",
       "    }\n",
       "\n",
       "    .dataframe tbody tr th {\n",
       "        vertical-align: top;\n",
       "    }\n",
       "</style>\n",
       "<table border=\"1\" class=\"dataframe\">\n",
       "  <thead>\n",
       "    <tr style=\"text-align: right;\">\n",
       "      <th></th>\n",
       "      <th>0</th>\n",
       "      <th>1</th>\n",
       "      <th>2</th>\n",
       "      <th>3</th>\n",
       "      <th>4</th>\n",
       "      <th>5</th>\n",
       "      <th>6</th>\n",
       "      <th>7</th>\n",
       "      <th>8</th>\n",
       "      <th>9</th>\n",
       "      <th>...</th>\n",
       "      <th>15</th>\n",
       "      <th>16</th>\n",
       "      <th>17</th>\n",
       "      <th>18</th>\n",
       "      <th>19</th>\n",
       "      <th>20</th>\n",
       "      <th>21</th>\n",
       "      <th>22</th>\n",
       "      <th>23</th>\n",
       "      <th>24</th>\n",
       "    </tr>\n",
       "  </thead>\n",
       "  <tbody>\n",
       "    <tr>\n",
       "      <th>0</th>\n",
       "      <td>-21.142578</td>\n",
       "      <td>-23.681641</td>\n",
       "      <td>-21.484375</td>\n",
       "      <td>-25.146484</td>\n",
       "      <td>-25.732422</td>\n",
       "      <td>-27.929688</td>\n",
       "      <td>-14.550781</td>\n",
       "      <td>-22.509766</td>\n",
       "      <td>-25.439453</td>\n",
       "      <td>-28.710938</td>\n",
       "      <td>...</td>\n",
       "      <td>-30.615234</td>\n",
       "      <td>-29.638672</td>\n",
       "      <td>-26.660156</td>\n",
       "      <td>-20.947266</td>\n",
       "      <td>-25.439453</td>\n",
       "      <td>-24.902344</td>\n",
       "      <td>-19.677734</td>\n",
       "      <td>31.738281</td>\n",
       "      <td>-13.671875</td>\n",
       "      <td>-43.945312</td>\n",
       "    </tr>\n",
       "    <tr>\n",
       "      <th>1</th>\n",
       "      <td>-21.923828</td>\n",
       "      <td>-23.925781</td>\n",
       "      <td>-24.316406</td>\n",
       "      <td>-25.341797</td>\n",
       "      <td>-26.074219</td>\n",
       "      <td>-25.244141</td>\n",
       "      <td>-16.064453</td>\n",
       "      <td>-22.753906</td>\n",
       "      <td>-28.320312</td>\n",
       "      <td>-29.248047</td>\n",
       "      <td>...</td>\n",
       "      <td>-31.054688</td>\n",
       "      <td>-30.712891</td>\n",
       "      <td>-26.123047</td>\n",
       "      <td>-22.998047</td>\n",
       "      <td>-27.099609</td>\n",
       "      <td>-26.367188</td>\n",
       "      <td>-23.339844</td>\n",
       "      <td>22.460938</td>\n",
       "      <td>-13.183594</td>\n",
       "      <td>-40.527344</td>\n",
       "    </tr>\n",
       "    <tr>\n",
       "      <th>2</th>\n",
       "      <td>-15.625000</td>\n",
       "      <td>-19.726562</td>\n",
       "      <td>-18.847656</td>\n",
       "      <td>-21.582031</td>\n",
       "      <td>-20.751953</td>\n",
       "      <td>-21.728516</td>\n",
       "      <td>-12.451172</td>\n",
       "      <td>-20.410156</td>\n",
       "      <td>-23.730469</td>\n",
       "      <td>-25.927734</td>\n",
       "      <td>...</td>\n",
       "      <td>-28.759766</td>\n",
       "      <td>-28.417969</td>\n",
       "      <td>-24.462891</td>\n",
       "      <td>-21.386719</td>\n",
       "      <td>-25.097656</td>\n",
       "      <td>-24.267578</td>\n",
       "      <td>-21.484375</td>\n",
       "      <td>33.691406</td>\n",
       "      <td>-8.300781</td>\n",
       "      <td>-38.574219</td>\n",
       "    </tr>\n",
       "    <tr>\n",
       "      <th>3</th>\n",
       "      <td>-16.699219</td>\n",
       "      <td>-13.720703</td>\n",
       "      <td>-20.361328</td>\n",
       "      <td>-20.849609</td>\n",
       "      <td>-24.169922</td>\n",
       "      <td>-22.021484</td>\n",
       "      <td>-10.986328</td>\n",
       "      <td>-16.357422</td>\n",
       "      <td>-25.585938</td>\n",
       "      <td>-24.951172</td>\n",
       "      <td>...</td>\n",
       "      <td>-27.783203</td>\n",
       "      <td>-28.857422</td>\n",
       "      <td>-25.537109</td>\n",
       "      <td>-19.335938</td>\n",
       "      <td>-24.316406</td>\n",
       "      <td>-24.511719</td>\n",
       "      <td>-17.919922</td>\n",
       "      <td>41.992188</td>\n",
       "      <td>-7.324219</td>\n",
       "      <td>-38.574219</td>\n",
       "    </tr>\n",
       "    <tr>\n",
       "      <th>4</th>\n",
       "      <td>-19.335938</td>\n",
       "      <td>-17.626953</td>\n",
       "      <td>-20.410156</td>\n",
       "      <td>-26.464844</td>\n",
       "      <td>-27.392578</td>\n",
       "      <td>-29.882812</td>\n",
       "      <td>-9.277344</td>\n",
       "      <td>-18.359375</td>\n",
       "      <td>-24.609375</td>\n",
       "      <td>-30.517578</td>\n",
       "      <td>...</td>\n",
       "      <td>-31.884766</td>\n",
       "      <td>-33.740234</td>\n",
       "      <td>-32.666016</td>\n",
       "      <td>-18.554688</td>\n",
       "      <td>-26.611328</td>\n",
       "      <td>-28.466797</td>\n",
       "      <td>-18.408203</td>\n",
       "      <td>37.109375</td>\n",
       "      <td>-15.136719</td>\n",
       "      <td>-49.804688</td>\n",
       "    </tr>\n",
       "  </tbody>\n",
       "</table>\n",
       "<p>5 rows × 25 columns</p>\n",
       "</div>"
      ],
      "text/plain": [
       "          0          1          2          3          4          5   \\\n",
       "0 -21.142578 -23.681641 -21.484375 -25.146484 -25.732422 -27.929688   \n",
       "1 -21.923828 -23.925781 -24.316406 -25.341797 -26.074219 -25.244141   \n",
       "2 -15.625000 -19.726562 -18.847656 -21.582031 -20.751953 -21.728516   \n",
       "3 -16.699219 -13.720703 -20.361328 -20.849609 -24.169922 -22.021484   \n",
       "4 -19.335938 -17.626953 -20.410156 -26.464844 -27.392578 -29.882812   \n",
       "\n",
       "          6          7          8          9     ...             15  \\\n",
       "0 -14.550781 -22.509766 -25.439453 -28.710938    ...     -30.615234   \n",
       "1 -16.064453 -22.753906 -28.320312 -29.248047    ...     -31.054688   \n",
       "2 -12.451172 -20.410156 -23.730469 -25.927734    ...     -28.759766   \n",
       "3 -10.986328 -16.357422 -25.585938 -24.951172    ...     -27.783203   \n",
       "4  -9.277344 -18.359375 -24.609375 -30.517578    ...     -31.884766   \n",
       "\n",
       "          16         17         18         19         20         21  \\\n",
       "0 -29.638672 -26.660156 -20.947266 -25.439453 -24.902344 -19.677734   \n",
       "1 -30.712891 -26.123047 -22.998047 -27.099609 -26.367188 -23.339844   \n",
       "2 -28.417969 -24.462891 -21.386719 -25.097656 -24.267578 -21.484375   \n",
       "3 -28.857422 -25.537109 -19.335938 -24.316406 -24.511719 -17.919922   \n",
       "4 -33.740234 -32.666016 -18.554688 -26.611328 -28.466797 -18.408203   \n",
       "\n",
       "          22         23         24  \n",
       "0  31.738281 -13.671875 -43.945312  \n",
       "1  22.460938 -13.183594 -40.527344  \n",
       "2  33.691406  -8.300781 -38.574219  \n",
       "3  41.992188  -7.324219 -38.574219  \n",
       "4  37.109375 -15.136719 -49.804688  \n",
       "\n",
       "[5 rows x 25 columns]"
      ]
     },
     "execution_count": 127,
     "metadata": {},
     "output_type": "execute_result"
    }
   ],
   "source": [
    "train.head()"
   ]
  },
  {
   "cell_type": "code",
   "execution_count": 128,
   "metadata": {
    "scrolled": true
   },
   "outputs": [],
   "source": [
    "label_results = [0] * len(train) # make it work for every file\n",
    "\n",
    "# Extract the labels for each instance\n",
    "for index, row in labels.iterrows():\n",
    "    label = row[0]\n",
    "    row_nr = row[1]\n",
    "    duration = row[2]\n",
    "    if(label == 769 or label == 770 or label == 771 or label == 772):\n",
    "        duration = 1000\n",
    "    for i in range(duration):\n",
    "        current_label = label_results[row_nr + i - 1]\n",
    "        if label == 769 or label == 770 or label == 771 or label == 772:\n",
    "            label_results[row_nr + i - 1] = label\n",
    "        elif current_label != 769 and current_label != 770 and current_label != 771 and current_label != 772:\n",
    "            label_results[row_nr + i - 1] = 1\n",
    "\n",
    "# Merge the data\n",
    "se = pd.Series(label_results)\n",
    "train['label'] = se.values"
   ]
  },
  {
   "cell_type": "code",
   "execution_count": 164,
   "metadata": {
    "collapsed": true
   },
   "outputs": [],
   "source": [
    "# eliminate other classes from data\n",
    "train = train.dropna()\n",
    "\n",
    "class1 = train[train.label==769]\n",
    "class2 = train[train.label==770]\n",
    "class3 = train[train.label==771]\n",
    "class4 = train[train.label==772]\n",
    "\n",
    "result = class1.append(class2)\n",
    "result = result.append(class3)\n",
    "result = result.append(class4)\n",
    "result = result.reset_index() \n",
    "\n",
    "result = result.dropna()"
   ]
  },
  {
   "cell_type": "code",
   "execution_count": 165,
   "metadata": {},
   "outputs": [],
   "source": [
    "# remove extra electrodes\n",
    "df = result.drop(['index', 22, 23, 24], axis=1)\n",
    "df = df.reset_index()"
   ]
  },
  {
   "cell_type": "code",
   "execution_count": 170,
   "metadata": {},
   "outputs": [],
   "source": [
    "# TODO this needs to be reviewed if numbers are correct \n",
    "# because in the end it gives the same number of instances for all file as for 1 file\n",
    "\n",
    "# spectral analyses\n",
    "last_index = 0\n",
    "label_vector = [] # train labels\n",
    "fft_array_rows = [] # train data prepared\n",
    "\n",
    "for i in range(288):\n",
    "    current_matrix = df[last_index:last_index+1000]\n",
    "    \n",
    "    fft_array_columns = []\n",
    "    label_vector.append(current_matrix[\"label\"][last_index])\n",
    "    last_index = last_index + 1000\n",
    "\n",
    "    for i in range(22):\n",
    "        fft_array_columns.append(np.fft.fft(current_matrix[i],1)[0])\n",
    "        \n",
    "    fft_array_rows.append(fft_array_columns)\n",
    "        \n",
    "df_abs = np.abs(fft_array_rows) "
   ]
  },
  {
   "cell_type": "code",
   "execution_count": 171,
   "metadata": {
    "collapsed": true
   },
   "outputs": [],
   "source": [
    "data_x = pd.DataFrame(df_abs) # Instances of the data\n",
    "data_y = pd.DataFrame(label_vector) # Labels of the data"
   ]
  },
  {
   "cell_type": "code",
   "execution_count": 172,
   "metadata": {},
   "outputs": [],
   "source": [
    "# split the data into train and test sets\n",
    "X_train, X_test, y_train, y_test = train_test_split(data_x, data_y, test_size=0.2, random_state=0)"
   ]
  },
  {
   "cell_type": "code",
   "execution_count": 173,
   "metadata": {},
   "outputs": [
    {
     "data": {
      "text/plain": [
       "False"
      ]
     },
     "execution_count": 173,
     "metadata": {},
     "output_type": "execute_result"
    }
   ],
   "source": [
    "# Check on NaN values\n",
    "np.any(np.isnan(X_train))"
   ]
  },
  {
   "cell_type": "code",
   "execution_count": 174,
   "metadata": {},
   "outputs": [
    {
     "name": "stdout",
     "output_type": "stream",
     "text": [
      "(230, 22)\n",
      "230\n"
     ]
    }
   ],
   "source": [
    "print(X_train.shape)\n",
    "print(len(y_train))"
   ]
  },
  {
   "cell_type": "code",
   "execution_count": 175,
   "metadata": {},
   "outputs": [
    {
     "name": "stderr",
     "output_type": "stream",
     "text": [
      "C:\\Users\\natiami\\Anaconda3\\lib\\site-packages\\sklearn\\utils\\validation.py:578: DataConversionWarning: A column-vector y was passed when a 1d array was expected. Please change the shape of y to (n_samples, ), for example using ravel().\n",
      "  y = column_or_1d(y, warn=True)\n"
     ]
    },
    {
     "data": {
      "text/plain": [
       "LinearDiscriminantAnalysis(n_components=None, priors=None, shrinkage=None,\n",
       "              solver='svd', store_covariance=False, tol=0.0001)"
      ]
     },
     "execution_count": 175,
     "metadata": {},
     "output_type": "execute_result"
    }
   ],
   "source": [
    "# Train the LDA model\n",
    "lda_clf = LinearDiscriminantAnalysis()\n",
    "lda_clf.fit(X_train, y_train)"
   ]
  },
  {
   "cell_type": "code",
   "execution_count": 176,
   "metadata": {},
   "outputs": [
    {
     "name": "stdout",
     "output_type": "stream",
     "text": [
      "Accuracy on train data  62.1739130435\n"
     ]
    }
   ],
   "source": [
    "# Accuracy of prediction on train data\n",
    "y_pred = lda_clf.predict(X_train)\n",
    "print(\"Accuracy on train data \", 100*accuracy_score(y_pred, y_train ))"
   ]
  },
  {
   "cell_type": "code",
   "execution_count": 177,
   "metadata": {},
   "outputs": [
    {
     "name": "stdout",
     "output_type": "stream",
     "text": [
      "Accuracy on test data  53.4482758621\n"
     ]
    }
   ],
   "source": [
    "# Accuracy of prediction on test data\n",
    "y_pred = lda_clf.predict(X_test)\n",
    "print(\"Accuracy on test data \", 100*accuracy_score(y_pred, y_test ))"
   ]
  },
  {
   "cell_type": "code",
   "execution_count": 156,
   "metadata": {},
   "outputs": [
    {
     "data": {
      "text/html": [
       "<div>\n",
       "<style>\n",
       "    .dataframe thead tr:only-child th {\n",
       "        text-align: right;\n",
       "    }\n",
       "\n",
       "    .dataframe thead th {\n",
       "        text-align: left;\n",
       "    }\n",
       "\n",
       "    .dataframe tbody tr th {\n",
       "        vertical-align: top;\n",
       "    }\n",
       "</style>\n",
       "<table border=\"1\" class=\"dataframe\">\n",
       "  <thead>\n",
       "    <tr style=\"text-align: right;\">\n",
       "      <th></th>\n",
       "      <th>Precision</th>\n",
       "    </tr>\n",
       "  </thead>\n",
       "  <tbody>\n",
       "    <tr>\n",
       "      <th>0</th>\n",
       "      <td>0.535714</td>\n",
       "    </tr>\n",
       "    <tr>\n",
       "      <th>1</th>\n",
       "      <td>0.548387</td>\n",
       "    </tr>\n",
       "  </tbody>\n",
       "</table>\n",
       "</div>"
      ],
      "text/plain": [
       "   Precision\n",
       "0   0.535714\n",
       "1   0.548387"
      ]
     },
     "execution_count": 156,
     "metadata": {},
     "output_type": "execute_result"
    }
   ],
   "source": [
    "# Precision  on test data\n",
    "df = {'Precision': precision_score(y_test.values, y_pred, average=None)}\n",
    "df = pd.DataFrame(data=df)\n",
    "df"
   ]
  },
  {
   "cell_type": "code",
   "execution_count": 157,
   "metadata": {},
   "outputs": [
    {
     "data": {
      "text/html": [
       "<div>\n",
       "<style>\n",
       "    .dataframe thead tr:only-child th {\n",
       "        text-align: right;\n",
       "    }\n",
       "\n",
       "    .dataframe thead th {\n",
       "        text-align: left;\n",
       "    }\n",
       "\n",
       "    .dataframe tbody tr th {\n",
       "        vertical-align: top;\n",
       "    }\n",
       "</style>\n",
       "<table border=\"1\" class=\"dataframe\">\n",
       "  <thead>\n",
       "    <tr style=\"text-align: right;\">\n",
       "      <th></th>\n",
       "      <th>0</th>\n",
       "      <th>1</th>\n",
       "      <th>2</th>\n",
       "      <th>3</th>\n",
       "    </tr>\n",
       "  </thead>\n",
       "  <tbody>\n",
       "    <tr>\n",
       "      <th>0</th>\n",
       "      <td>17</td>\n",
       "      <td>26</td>\n",
       "      <td>0</td>\n",
       "      <td>0</td>\n",
       "    </tr>\n",
       "    <tr>\n",
       "      <th>1</th>\n",
       "      <td>14</td>\n",
       "      <td>30</td>\n",
       "      <td>0</td>\n",
       "      <td>0</td>\n",
       "    </tr>\n",
       "    <tr>\n",
       "      <th>2</th>\n",
       "      <td>0</td>\n",
       "      <td>0</td>\n",
       "      <td>0</td>\n",
       "      <td>0</td>\n",
       "    </tr>\n",
       "    <tr>\n",
       "      <th>3</th>\n",
       "      <td>0</td>\n",
       "      <td>0</td>\n",
       "      <td>0</td>\n",
       "      <td>0</td>\n",
       "    </tr>\n",
       "  </tbody>\n",
       "</table>\n",
       "</div>"
      ],
      "text/plain": [
       "    0   1  2  3\n",
       "0  17  26  0  0\n",
       "1  14  30  0  0\n",
       "2   0   0  0  0\n",
       "3   0   0  0  0"
      ]
     },
     "execution_count": 157,
     "metadata": {},
     "output_type": "execute_result"
    }
   ],
   "source": [
    "conf_mat = confusion_matrix(y_test, y_pred, labels=[770,769,771,772])\n",
    "pd.DataFrame(conf_mat)"
   ]
  },
  {
   "cell_type": "code",
   "execution_count": 158,
   "metadata": {
    "scrolled": true
   },
   "outputs": [
    {
     "name": "stderr",
     "output_type": "stream",
     "text": [
      "C:\\Users\\natiami\\Anaconda3\\lib\\site-packages\\ipykernel_launcher.py:3: DataConversionWarning: A column-vector y was passed when a 1d array was expected. Please change the shape of y to (n_samples, ), for example using ravel().\n",
      "  This is separate from the ipykernel package so we can avoid doing imports until\n"
     ]
    },
    {
     "data": {
      "text/plain": [
       "KNeighborsClassifier(algorithm='auto', leaf_size=30, metric='minkowski',\n",
       "           metric_params=None, n_jobs=1, n_neighbors=3, p=2,\n",
       "           weights='uniform')"
      ]
     },
     "execution_count": 158,
     "metadata": {},
     "output_type": "execute_result"
    }
   ],
   "source": [
    "# Train the KNN model\n",
    "knn = KNeighborsClassifier(n_neighbors=3)\n",
    "knn.fit(X_train, y_train) "
   ]
  },
  {
   "cell_type": "code",
   "execution_count": 159,
   "metadata": {},
   "outputs": [
    {
     "name": "stdout",
     "output_type": "stream",
     "text": [
      "Accuracy on train data  77.1144278607\n"
     ]
    }
   ],
   "source": [
    "# Accuracy of prediction on train data\n",
    "y_pred = knn.predict(X_train)\n",
    "print(\"Accuracy on train data \", 100*accuracy_score(y_pred, y_train ))"
   ]
  },
  {
   "cell_type": "code",
   "execution_count": 160,
   "metadata": {},
   "outputs": [
    {
     "name": "stdout",
     "output_type": "stream",
     "text": [
      "Accuracy on test data  42.5287356322\n"
     ]
    }
   ],
   "source": [
    "# Accuracy of prediction on test data\n",
    "y_pred = knn.predict(X_test)\n",
    "print(\"Accuracy on test data \", 100*accuracy_score(y_pred, y_test ))"
   ]
  },
  {
   "cell_type": "code",
   "execution_count": null,
   "metadata": {
    "collapsed": true
   },
   "outputs": [],
   "source": []
  }
 ],
 "metadata": {
  "kernelspec": {
   "display_name": "Python 3",
   "language": "python",
   "name": "python3"
  },
  "language_info": {
   "codemirror_mode": {
    "name": "ipython",
    "version": 3
   },
   "file_extension": ".py",
   "mimetype": "text/x-python",
   "name": "python",
   "nbconvert_exporter": "python",
   "pygments_lexer": "ipython3",
   "version": "3.6.3"
  }
 },
 "nbformat": 4,
 "nbformat_minor": 2
}
