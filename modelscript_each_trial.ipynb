{
 "cells": [
  {
   "cell_type": "code",
   "execution_count": 1,
   "metadata": {
    "collapsed": true
   },
   "outputs": [],
   "source": [
    "import pandas as pd\n",
    "import numpy as np\n",
    "import string\n",
    "\n",
    "from sklearn.model_selection import train_test_split\n",
    "from sklearn.discriminant_analysis import LinearDiscriminantAnalysis \n",
    "from sklearn.neighbors import KNeighborsClassifier\n",
    "from sklearn.metrics import precision_score\n",
    "from sklearn.metrics import confusion_matrix\n",
    "from sklearn.metrics import accuracy_score"
   ]
  },
  {
   "cell_type": "markdown",
   "metadata": {},
   "source": [
    "Load data"
   ]
  },
  {
   "cell_type": "code",
   "execution_count": 2,
   "metadata": {
    "collapsed": false
   },
   "outputs": [
    {
     "name": "stdout",
     "output_type": "stream",
     "text": [
      "Path  C:\\kool\\sissejuhatus arvutuslikku neuroteadusesse\\project\\traindata\\A01TInstances.csv\n",
      "(672528, 25)\n",
      "Path  C:\\kool\\sissejuhatus arvutuslikku neuroteadusesse\\project\\traindata\\A02TInstances.csv\n",
      "(1349697, 25)\n",
      "Path  C:\\kool\\sissejuhatus arvutuslikku neuroteadusesse\\project\\traindata\\A03TInstances.csv\n",
      "(2010227, 25)\n",
      "Path  C:\\kool\\sissejuhatus arvutuslikku neuroteadusesse\\project\\traindata\\A04TInstances.csv\n",
      "(2611142, 25)\n",
      "Path  C:\\kool\\sissejuhatus arvutuslikku neuroteadusesse\\project\\traindata\\A05TInstances.csv\n",
      "(3297262, 25)\n",
      "Path  C:\\kool\\sissejuhatus arvutuslikku neuroteadusesse\\project\\traindata\\A06TInstances.csv\n",
      "(3976242, 25)\n",
      "Path  C:\\kool\\sissejuhatus arvutuslikku neuroteadusesse\\project\\traindata\\A07TInstances.csv\n",
      "(4657313, 25)\n",
      "Path  C:\\kool\\sissejuhatus arvutuslikku neuroteadusesse\\project\\traindata\\A08TInstances.csv\n",
      "(5332583, 25)\n",
      "Path  C:\\kool\\sissejuhatus arvutuslikku neuroteadusesse\\project\\traindata\\A09TInstances.csv\n",
      "(6005911, 25)\n",
      "Final data shapes\n",
      "Data:  (6005911, 25)\n",
      "Labels:  (5552, 3)\n"
     ]
    }
   ],
   "source": [
    "train = pd.DataFrame()\n",
    "labels = pd.DataFrame()\n",
    "#path_file = \"C:/Users/Marielle/Documents/Uni Tartu/Introduction to Computational Neuroscience/traindata/traindata/A01TInstances.csv\"\n",
    "#path_label = \"C:/Users/Marielle/Documents/Uni Tartu/Introduction to Computational Neuroscience/traindata//traindata/A01TLabels.csv\"\n",
    "path_file = \"C:\\\\kool\\\\sissejuhatus arvutuslikku neuroteadusesse\\\\project\\\\traindata\\\\A01TInstances.csv\"\n",
    "path_label = \"C:\\\\kool\\\\sissejuhatus arvutuslikku neuroteadusesse\\\\project\\\\traindata\\\\A01TLabels.csv\"\n",
    "\n",
    "data_list = []\n",
    "\n",
    "for i in range(9):\n",
    "    print(\"Path \", path_file)\n",
    "    \n",
    "    feature = pd.read_csv(path_file, header=None)\n",
    "    train = train.append(feature)\n",
    "    \n",
    "    \n",
    "    label = pd.read_csv(path_label, header=None)\n",
    "    labels = labels.append(label)\n",
    "    \n",
    "    data_list.append([feature, label]) \n",
    "\n",
    "    path_file = path_file.replace(str(i+1), str(i+2)) \n",
    "    path_label = path_label.replace(str(i+1), str(i+2))\n",
    "    \n",
    "    # Print updated data dimensions\n",
    "    print(train.shape)\n",
    "\n",
    "print(\"Final data shapes\")\n",
    "print(\"Data: \", train.shape)\n",
    "print(\"Labels: \", labels.shape)"
   ]
  },
  {
   "cell_type": "code",
   "execution_count": 3,
   "metadata": {
    "collapsed": false
   },
   "outputs": [
    {
     "data": {
      "text/html": [
       "<div>\n",
       "<style scoped>\n",
       "    .dataframe tbody tr th:only-of-type {\n",
       "        vertical-align: middle;\n",
       "    }\n",
       "\n",
       "    .dataframe tbody tr th {\n",
       "        vertical-align: top;\n",
       "    }\n",
       "\n",
       "    .dataframe thead th {\n",
       "        text-align: right;\n",
       "    }\n",
       "</style>\n",
       "<table border=\"1\" class=\"dataframe\">\n",
       "  <thead>\n",
       "    <tr style=\"text-align: right;\">\n",
       "      <th></th>\n",
       "      <th>0</th>\n",
       "      <th>1</th>\n",
       "      <th>2</th>\n",
       "      <th>3</th>\n",
       "      <th>4</th>\n",
       "      <th>5</th>\n",
       "      <th>6</th>\n",
       "      <th>7</th>\n",
       "      <th>8</th>\n",
       "      <th>9</th>\n",
       "      <th>...</th>\n",
       "      <th>15</th>\n",
       "      <th>16</th>\n",
       "      <th>17</th>\n",
       "      <th>18</th>\n",
       "      <th>19</th>\n",
       "      <th>20</th>\n",
       "      <th>21</th>\n",
       "      <th>22</th>\n",
       "      <th>23</th>\n",
       "      <th>24</th>\n",
       "    </tr>\n",
       "  </thead>\n",
       "  <tbody>\n",
       "    <tr>\n",
       "      <th>0</th>\n",
       "      <td>-21.142578</td>\n",
       "      <td>-23.681641</td>\n",
       "      <td>-21.484375</td>\n",
       "      <td>-25.146484</td>\n",
       "      <td>-25.732422</td>\n",
       "      <td>-27.929688</td>\n",
       "      <td>-14.550781</td>\n",
       "      <td>-22.509766</td>\n",
       "      <td>-25.439453</td>\n",
       "      <td>-28.710938</td>\n",
       "      <td>...</td>\n",
       "      <td>-30.615234</td>\n",
       "      <td>-29.638672</td>\n",
       "      <td>-26.660156</td>\n",
       "      <td>-20.947266</td>\n",
       "      <td>-25.439453</td>\n",
       "      <td>-24.902344</td>\n",
       "      <td>-19.677734</td>\n",
       "      <td>31.738281</td>\n",
       "      <td>-13.671875</td>\n",
       "      <td>-43.945312</td>\n",
       "    </tr>\n",
       "    <tr>\n",
       "      <th>1</th>\n",
       "      <td>-21.923828</td>\n",
       "      <td>-23.925781</td>\n",
       "      <td>-24.316406</td>\n",
       "      <td>-25.341797</td>\n",
       "      <td>-26.074219</td>\n",
       "      <td>-25.244141</td>\n",
       "      <td>-16.064453</td>\n",
       "      <td>-22.753906</td>\n",
       "      <td>-28.320312</td>\n",
       "      <td>-29.248047</td>\n",
       "      <td>...</td>\n",
       "      <td>-31.054688</td>\n",
       "      <td>-30.712891</td>\n",
       "      <td>-26.123047</td>\n",
       "      <td>-22.998047</td>\n",
       "      <td>-27.099609</td>\n",
       "      <td>-26.367188</td>\n",
       "      <td>-23.339844</td>\n",
       "      <td>22.460938</td>\n",
       "      <td>-13.183594</td>\n",
       "      <td>-40.527344</td>\n",
       "    </tr>\n",
       "    <tr>\n",
       "      <th>2</th>\n",
       "      <td>-15.625000</td>\n",
       "      <td>-19.726562</td>\n",
       "      <td>-18.847656</td>\n",
       "      <td>-21.582031</td>\n",
       "      <td>-20.751953</td>\n",
       "      <td>-21.728516</td>\n",
       "      <td>-12.451172</td>\n",
       "      <td>-20.410156</td>\n",
       "      <td>-23.730469</td>\n",
       "      <td>-25.927734</td>\n",
       "      <td>...</td>\n",
       "      <td>-28.759766</td>\n",
       "      <td>-28.417969</td>\n",
       "      <td>-24.462891</td>\n",
       "      <td>-21.386719</td>\n",
       "      <td>-25.097656</td>\n",
       "      <td>-24.267578</td>\n",
       "      <td>-21.484375</td>\n",
       "      <td>33.691406</td>\n",
       "      <td>-8.300781</td>\n",
       "      <td>-38.574219</td>\n",
       "    </tr>\n",
       "    <tr>\n",
       "      <th>3</th>\n",
       "      <td>-16.699219</td>\n",
       "      <td>-13.720703</td>\n",
       "      <td>-20.361328</td>\n",
       "      <td>-20.849609</td>\n",
       "      <td>-24.169922</td>\n",
       "      <td>-22.021484</td>\n",
       "      <td>-10.986328</td>\n",
       "      <td>-16.357422</td>\n",
       "      <td>-25.585938</td>\n",
       "      <td>-24.951172</td>\n",
       "      <td>...</td>\n",
       "      <td>-27.783203</td>\n",
       "      <td>-28.857422</td>\n",
       "      <td>-25.537109</td>\n",
       "      <td>-19.335938</td>\n",
       "      <td>-24.316406</td>\n",
       "      <td>-24.511719</td>\n",
       "      <td>-17.919922</td>\n",
       "      <td>41.992188</td>\n",
       "      <td>-7.324219</td>\n",
       "      <td>-38.574219</td>\n",
       "    </tr>\n",
       "    <tr>\n",
       "      <th>4</th>\n",
       "      <td>-19.335938</td>\n",
       "      <td>-17.626953</td>\n",
       "      <td>-20.410156</td>\n",
       "      <td>-26.464844</td>\n",
       "      <td>-27.392578</td>\n",
       "      <td>-29.882812</td>\n",
       "      <td>-9.277344</td>\n",
       "      <td>-18.359375</td>\n",
       "      <td>-24.609375</td>\n",
       "      <td>-30.517578</td>\n",
       "      <td>...</td>\n",
       "      <td>-31.884766</td>\n",
       "      <td>-33.740234</td>\n",
       "      <td>-32.666016</td>\n",
       "      <td>-18.554688</td>\n",
       "      <td>-26.611328</td>\n",
       "      <td>-28.466797</td>\n",
       "      <td>-18.408203</td>\n",
       "      <td>37.109375</td>\n",
       "      <td>-15.136719</td>\n",
       "      <td>-49.804688</td>\n",
       "    </tr>\n",
       "  </tbody>\n",
       "</table>\n",
       "<p>5 rows × 25 columns</p>\n",
       "</div>"
      ],
      "text/plain": [
       "          0          1          2          3          4          5   \\\n",
       "0 -21.142578 -23.681641 -21.484375 -25.146484 -25.732422 -27.929688   \n",
       "1 -21.923828 -23.925781 -24.316406 -25.341797 -26.074219 -25.244141   \n",
       "2 -15.625000 -19.726562 -18.847656 -21.582031 -20.751953 -21.728516   \n",
       "3 -16.699219 -13.720703 -20.361328 -20.849609 -24.169922 -22.021484   \n",
       "4 -19.335938 -17.626953 -20.410156 -26.464844 -27.392578 -29.882812   \n",
       "\n",
       "          6          7          8          9     ...             15  \\\n",
       "0 -14.550781 -22.509766 -25.439453 -28.710938    ...     -30.615234   \n",
       "1 -16.064453 -22.753906 -28.320312 -29.248047    ...     -31.054688   \n",
       "2 -12.451172 -20.410156 -23.730469 -25.927734    ...     -28.759766   \n",
       "3 -10.986328 -16.357422 -25.585938 -24.951172    ...     -27.783203   \n",
       "4  -9.277344 -18.359375 -24.609375 -30.517578    ...     -31.884766   \n",
       "\n",
       "          16         17         18         19         20         21  \\\n",
       "0 -29.638672 -26.660156 -20.947266 -25.439453 -24.902344 -19.677734   \n",
       "1 -30.712891 -26.123047 -22.998047 -27.099609 -26.367188 -23.339844   \n",
       "2 -28.417969 -24.462891 -21.386719 -25.097656 -24.267578 -21.484375   \n",
       "3 -28.857422 -25.537109 -19.335938 -24.316406 -24.511719 -17.919922   \n",
       "4 -33.740234 -32.666016 -18.554688 -26.611328 -28.466797 -18.408203   \n",
       "\n",
       "          22         23         24  \n",
       "0  31.738281 -13.671875 -43.945312  \n",
       "1  22.460938 -13.183594 -40.527344  \n",
       "2  33.691406  -8.300781 -38.574219  \n",
       "3  41.992188  -7.324219 -38.574219  \n",
       "4  37.109375 -15.136719 -49.804688  \n",
       "\n",
       "[5 rows x 25 columns]"
      ]
     },
     "execution_count": 3,
     "metadata": {},
     "output_type": "execute_result"
    }
   ],
   "source": [
    "train.head()"
   ]
  },
  {
   "cell_type": "markdown",
   "metadata": {},
   "source": [
    "Label each row using 4 classes separatly for each trial"
   ]
  },
  {
   "cell_type": "code",
   "execution_count": 4,
   "metadata": {
    "collapsed": true
   },
   "outputs": [],
   "source": [
    "# rows considered after first labeled row, duration in label dataset is 313 \n",
    "time_period = 1000"
   ]
  },
  {
   "cell_type": "code",
   "execution_count": 5,
   "metadata": {
    "collapsed": true,
    "scrolled": true
   },
   "outputs": [],
   "source": [
    "# label the rows for each trial separately because row_nr starts from 0 for each trial\n",
    "trials_labels = []\n",
    "\n",
    "for data in data_list:\n",
    "    \n",
    "    train = data[0]\n",
    "    label = data[1]\n",
    "    \n",
    "    label_results = [0] * len(train) # make it work for every file\n",
    "\n",
    "    # Extract the labels for each instance\n",
    "    for index, row in label.iterrows():\n",
    "        label = row[0]\n",
    "        row_nr = row[1]\n",
    "        duration = row[2]\n",
    "        if(label == 769 or label == 770 or label == 771 or label == 772):\n",
    "            duration = time_period\n",
    "        for i in range(duration):\n",
    "            current_label = label_results[row_nr + i - 1]\n",
    "            if label == 769 or label == 770 or label == 771 or label == 772:\n",
    "                label_results[row_nr + i - 1] = label\n",
    "            elif current_label != 769 and current_label != 770 and current_label != 771 and current_label != 772:\n",
    "                label_results[row_nr + i - 1] = 1\n",
    "\n",
    "    # Merge the data\n",
    "    se = pd.Series(label_results)\n",
    "    train['label'] = se.values\n",
    "    trials_labels.append(train)"
   ]
  },
  {
   "cell_type": "code",
   "execution_count": 6,
   "metadata": {
    "collapsed": true
   },
   "outputs": [],
   "source": [
    "# merge all trials together to one dataframe \n",
    "merge_trials = pd.DataFrame(trials_labels[0])\n",
    "for i in range(8):\n",
    "    merge_trials = merge_trials.append(trials_labels[i+1])"
   ]
  },
  {
   "cell_type": "code",
   "execution_count": 7,
   "metadata": {
    "collapsed": true
   },
   "outputs": [],
   "source": [
    "train = merge_trials"
   ]
  },
  {
   "cell_type": "markdown",
   "metadata": {},
   "source": [
    "Filter rows"
   ]
  },
  {
   "cell_type": "code",
   "execution_count": 8,
   "metadata": {
    "collapsed": true
   },
   "outputs": [],
   "source": [
    "# eliminate other classes from data\n",
    "\n",
    "class1 = train[train.label==769]\n",
    "class2 = train[train.label==770]\n",
    "class3 = train[train.label==771]\n",
    "class4 = train[train.label==772]\n",
    "\n",
    "result = class1.append(class2)\n",
    "result = result.append(class3)\n",
    "result = result.append(class4)\n",
    "result = result.reset_index() \n"
   ]
  },
  {
   "cell_type": "code",
   "execution_count": 9,
   "metadata": {
    "collapsed": true
   },
   "outputs": [],
   "source": [
    "# remove extra electrodes\n",
    "df = result.drop(['index', 22, 23, 24], axis=1)"
   ]
  },
  {
   "cell_type": "code",
   "execution_count": 10,
   "metadata": {
    "collapsed": false
   },
   "outputs": [
    {
     "data": {
      "text/plain": [
       "(2592000, 23)"
      ]
     },
     "execution_count": 10,
     "metadata": {},
     "output_type": "execute_result"
    }
   ],
   "source": [
    "# should be 2592 trials: len(df)/time_period = 2592\n",
    "df.shape"
   ]
  },
  {
   "cell_type": "markdown",
   "metadata": {},
   "source": [
    "Spectral Analyses"
   ]
  },
  {
   "cell_type": "code",
   "execution_count": 11,
   "metadata": {
    "collapsed": true
   },
   "outputs": [],
   "source": [
    "# 1) doing FFT for whole matrix \n",
    "#fft_df = pd.DataFrame(np.abs(np.fft.fft(df.iloc[:,0:22])))"
   ]
  },
  {
   "cell_type": "code",
   "execution_count": 12,
   "metadata": {
    "collapsed": false
   },
   "outputs": [
    {
     "data": {
      "text/plain": [
       "(2592, 22, 501)"
      ]
     },
     "execution_count": 12,
     "metadata": {},
     "output_type": "execute_result"
    }
   ],
   "source": [
    "# TODO this needs to be reviewed if numbers are correct \n",
    "# because in the end it gives the same number of instances for all file as for 1 file\n",
    "\n",
    "# spectral analyses\n",
    "last_index = 0\n",
    "label_vector = [] # train labels\n",
    "fft_array_rows = [] # train data prepared\n",
    "#print(df.shape)\n",
    "\n",
    "for i in range(int(len(df)/time_period)):\n",
    "    current_matrix = df[last_index:last_index+time_period]\n",
    "    #print(current_matrix.shape)\n",
    "    \n",
    "    fft_array_columns = []\n",
    "    label_vector.append(current_matrix[\"label\"][last_index])\n",
    "    last_index = last_index + time_period\n",
    "\n",
    "    # 2) OR doing FFT for single row \n",
    "    for i in range(22):\n",
    "        fft_array_columns.append(np.fft.rfft(current_matrix[i]))\n",
    "        \n",
    "    fft_array_rows.append(fft_array_columns)\n",
    "    \n",
    "    #3) OR FFT for whole matrix of each trial \n",
    "    #fft_array_rows.append(np.fft.rfft(current_matrix,22)[0])\n",
    "\n",
    "        \n",
    "df_abs = np.abs(fft_array_rows) \n",
    "df_abs.shape\n"
   ]
  },
  {
   "cell_type": "code",
   "execution_count": 24,
   "metadata": {
    "collapsed": false
   },
   "outputs": [],
   "source": [
    "new_df_abs = []\n",
    "for i in range(len(df_abs)):\n",
    "    l = []\n",
    "    for j in range(len(df_abs[i])):\n",
    "        for n in range(len(df_abs[i][j])):\n",
    "            l.append(df_abs[i][j][n])\n",
    "    new_df_abs.append(l)"
   ]
  },
  {
   "cell_type": "code",
   "execution_count": 69,
   "metadata": {
    "collapsed": false
   },
   "outputs": [],
   "source": [
    "# 2) OR 3) create DataFrame for single FFT\n",
    "tt = pd.DataFrame(new_df_abs)\n",
    "tt['label'] = label_vector"
   ]
  },
  {
   "cell_type": "code",
   "execution_count": 68,
   "metadata": {
    "collapsed": false
   },
   "outputs": [
    {
     "data": {
      "text/html": [
       "<div>\n",
       "<style scoped>\n",
       "    .dataframe tbody tr th:only-of-type {\n",
       "        vertical-align: middle;\n",
       "    }\n",
       "\n",
       "    .dataframe tbody tr th {\n",
       "        vertical-align: top;\n",
       "    }\n",
       "\n",
       "    .dataframe thead th {\n",
       "        text-align: right;\n",
       "    }\n",
       "</style>\n",
       "<table border=\"1\" class=\"dataframe\">\n",
       "  <thead>\n",
       "    <tr style=\"text-align: right;\">\n",
       "      <th></th>\n",
       "      <th>0</th>\n",
       "      <th>1</th>\n",
       "      <th>2</th>\n",
       "      <th>3</th>\n",
       "      <th>4</th>\n",
       "      <th>5</th>\n",
       "      <th>6</th>\n",
       "      <th>7</th>\n",
       "      <th>8</th>\n",
       "      <th>9</th>\n",
       "      <th>...</th>\n",
       "      <th>11013</th>\n",
       "      <th>11014</th>\n",
       "      <th>11015</th>\n",
       "      <th>11016</th>\n",
       "      <th>11017</th>\n",
       "      <th>11018</th>\n",
       "      <th>11019</th>\n",
       "      <th>11020</th>\n",
       "      <th>11021</th>\n",
       "      <th>label</th>\n",
       "    </tr>\n",
       "  </thead>\n",
       "  <tbody>\n",
       "    <tr>\n",
       "      <th>0</th>\n",
       "      <td>569.628906</td>\n",
       "      <td>1075.864977</td>\n",
       "      <td>163.602370</td>\n",
       "      <td>3783.787259</td>\n",
       "      <td>1083.481980</td>\n",
       "      <td>770.888842</td>\n",
       "      <td>2167.313989</td>\n",
       "      <td>1260.977125</td>\n",
       "      <td>563.139396</td>\n",
       "      <td>780.539024</td>\n",
       "      <td>...</td>\n",
       "      <td>30.772391</td>\n",
       "      <td>46.498258</td>\n",
       "      <td>42.041689</td>\n",
       "      <td>19.411956</td>\n",
       "      <td>27.554705</td>\n",
       "      <td>83.220857</td>\n",
       "      <td>41.166177</td>\n",
       "      <td>53.279166</td>\n",
       "      <td>79.541016</td>\n",
       "      <td>769</td>\n",
       "    </tr>\n",
       "    <tr>\n",
       "      <th>1</th>\n",
       "      <td>75.683594</td>\n",
       "      <td>1536.422785</td>\n",
       "      <td>986.855554</td>\n",
       "      <td>2220.601179</td>\n",
       "      <td>2408.060484</td>\n",
       "      <td>2307.215751</td>\n",
       "      <td>1110.790592</td>\n",
       "      <td>2581.732096</td>\n",
       "      <td>1223.597789</td>\n",
       "      <td>1581.024944</td>\n",
       "      <td>...</td>\n",
       "      <td>103.245525</td>\n",
       "      <td>24.272077</td>\n",
       "      <td>36.051214</td>\n",
       "      <td>143.666084</td>\n",
       "      <td>70.426262</td>\n",
       "      <td>25.179803</td>\n",
       "      <td>27.791356</td>\n",
       "      <td>32.359145</td>\n",
       "      <td>90.820312</td>\n",
       "      <td>769</td>\n",
       "    </tr>\n",
       "    <tr>\n",
       "      <th>2</th>\n",
       "      <td>882.910156</td>\n",
       "      <td>3318.880130</td>\n",
       "      <td>5545.839750</td>\n",
       "      <td>6087.129454</td>\n",
       "      <td>3399.907827</td>\n",
       "      <td>2926.279512</td>\n",
       "      <td>2723.667828</td>\n",
       "      <td>1919.777447</td>\n",
       "      <td>1676.857801</td>\n",
       "      <td>2127.939311</td>\n",
       "      <td>...</td>\n",
       "      <td>74.211348</td>\n",
       "      <td>55.078578</td>\n",
       "      <td>77.480929</td>\n",
       "      <td>35.098601</td>\n",
       "      <td>18.721615</td>\n",
       "      <td>48.802973</td>\n",
       "      <td>76.363241</td>\n",
       "      <td>44.834500</td>\n",
       "      <td>119.238281</td>\n",
       "      <td>769</td>\n",
       "    </tr>\n",
       "    <tr>\n",
       "      <th>3</th>\n",
       "      <td>412.158203</td>\n",
       "      <td>2307.057161</td>\n",
       "      <td>2894.864187</td>\n",
       "      <td>1238.502125</td>\n",
       "      <td>1094.663464</td>\n",
       "      <td>801.676684</td>\n",
       "      <td>638.826382</td>\n",
       "      <td>2233.512717</td>\n",
       "      <td>244.855134</td>\n",
       "      <td>2566.030343</td>\n",
       "      <td>...</td>\n",
       "      <td>102.831190</td>\n",
       "      <td>77.960347</td>\n",
       "      <td>48.750279</td>\n",
       "      <td>73.343003</td>\n",
       "      <td>62.237409</td>\n",
       "      <td>72.063947</td>\n",
       "      <td>27.754736</td>\n",
       "      <td>90.173704</td>\n",
       "      <td>1.855469</td>\n",
       "      <td>769</td>\n",
       "    </tr>\n",
       "    <tr>\n",
       "      <th>4</th>\n",
       "      <td>1475.537109</td>\n",
       "      <td>869.259342</td>\n",
       "      <td>370.950616</td>\n",
       "      <td>1616.516830</td>\n",
       "      <td>1619.726416</td>\n",
       "      <td>1062.155907</td>\n",
       "      <td>1650.047419</td>\n",
       "      <td>49.054233</td>\n",
       "      <td>840.881685</td>\n",
       "      <td>667.118401</td>\n",
       "      <td>...</td>\n",
       "      <td>14.558467</td>\n",
       "      <td>124.878583</td>\n",
       "      <td>59.885985</td>\n",
       "      <td>14.307393</td>\n",
       "      <td>65.981805</td>\n",
       "      <td>46.913715</td>\n",
       "      <td>40.625245</td>\n",
       "      <td>54.375889</td>\n",
       "      <td>109.130859</td>\n",
       "      <td>769</td>\n",
       "    </tr>\n",
       "  </tbody>\n",
       "</table>\n",
       "<p>5 rows × 11023 columns</p>\n",
       "</div>"
      ],
      "text/plain": [
       "             0            1            2            3            4  \\\n",
       "0   569.628906  1075.864977   163.602370  3783.787259  1083.481980   \n",
       "1    75.683594  1536.422785   986.855554  2220.601179  2408.060484   \n",
       "2   882.910156  3318.880130  5545.839750  6087.129454  3399.907827   \n",
       "3   412.158203  2307.057161  2894.864187  1238.502125  1094.663464   \n",
       "4  1475.537109   869.259342   370.950616  1616.516830  1619.726416   \n",
       "\n",
       "             5            6            7            8            9  ...    \\\n",
       "0   770.888842  2167.313989  1260.977125   563.139396   780.539024  ...     \n",
       "1  2307.215751  1110.790592  2581.732096  1223.597789  1581.024944  ...     \n",
       "2  2926.279512  2723.667828  1919.777447  1676.857801  2127.939311  ...     \n",
       "3   801.676684   638.826382  2233.512717   244.855134  2566.030343  ...     \n",
       "4  1062.155907  1650.047419    49.054233   840.881685   667.118401  ...     \n",
       "\n",
       "        11013       11014      11015       11016      11017      11018  \\\n",
       "0   30.772391   46.498258  42.041689   19.411956  27.554705  83.220857   \n",
       "1  103.245525   24.272077  36.051214  143.666084  70.426262  25.179803   \n",
       "2   74.211348   55.078578  77.480929   35.098601  18.721615  48.802973   \n",
       "3  102.831190   77.960347  48.750279   73.343003  62.237409  72.063947   \n",
       "4   14.558467  124.878583  59.885985   14.307393  65.981805  46.913715   \n",
       "\n",
       "       11019      11020       11021  label  \n",
       "0  41.166177  53.279166   79.541016    769  \n",
       "1  27.791356  32.359145   90.820312    769  \n",
       "2  76.363241  44.834500  119.238281    769  \n",
       "3  27.754736  90.173704    1.855469    769  \n",
       "4  40.625245  54.375889  109.130859    769  \n",
       "\n",
       "[5 rows x 11023 columns]"
      ]
     },
     "execution_count": 68,
     "metadata": {},
     "output_type": "execute_result"
    }
   ],
   "source": [
    "tt.head()"
   ]
  },
  {
   "cell_type": "code",
   "execution_count": 31,
   "metadata": {
    "collapsed": true
   },
   "outputs": [],
   "source": [
    "# 1) OR create DataFrame for whole matrix FFT\n",
    "#tt = fft_df\n",
    "#tt['label'] = df.iloc[:,22]\n",
    "tt = tt.dropna()"
   ]
  },
  {
   "cell_type": "markdown",
   "metadata": {},
   "source": [
    "Splitting "
   ]
  },
  {
   "cell_type": "code",
   "execution_count": 70,
   "metadata": {
    "collapsed": true
   },
   "outputs": [],
   "source": [
    "# we probably should make it more automa\n",
    "data_x = pd.DataFrame(tt.iloc[:,0:11022]) # Instances of the data\n",
    "data_y = pd.DataFrame(tt.iloc[:,11022]) # Labels of the data"
   ]
  },
  {
   "cell_type": "code",
   "execution_count": 42,
   "metadata": {
    "collapsed": true
   },
   "outputs": [],
   "source": [
    "# split the data into train and test sets\n",
    "X_train, X_test, y_train, y_test = train_test_split(data_x, data_y, test_size=0.2, random_state=0)"
   ]
  },
  {
   "cell_type": "code",
   "execution_count": 43,
   "metadata": {
    "collapsed": false
   },
   "outputs": [
    {
     "data": {
      "text/plain": [
       "False"
      ]
     },
     "execution_count": 43,
     "metadata": {},
     "output_type": "execute_result"
    }
   ],
   "source": [
    "# Check on NaN values\n",
    "np.any(np.isnan(X_train))"
   ]
  },
  {
   "cell_type": "code",
   "execution_count": 44,
   "metadata": {
    "collapsed": false
   },
   "outputs": [
    {
     "name": "stdout",
     "output_type": "stream",
     "text": [
      "(2046, 11022)\n",
      "2046\n"
     ]
    }
   ],
   "source": [
    "print(X_train.shape)\n",
    "print(len(y_train))"
   ]
  },
  {
   "cell_type": "markdown",
   "metadata": {},
   "source": [
    "LDA"
   ]
  },
  {
   "cell_type": "code",
   "execution_count": 45,
   "metadata": {
    "collapsed": false,
    "scrolled": true
   },
   "outputs": [
    {
     "name": "stderr",
     "output_type": "stream",
     "text": [
      "C:\\Users\\Unknown user\\Anaconda3\\lib\\site-packages\\sklearn\\utils\\validation.py:547: DataConversionWarning: A column-vector y was passed when a 1d array was expected. Please change the shape of y to (n_samples, ), for example using ravel().\n",
      "  y = column_or_1d(y, warn=True)\n",
      "C:\\Users\\Unknown user\\Anaconda3\\lib\\site-packages\\sklearn\\discriminant_analysis.py:388: UserWarning: Variables are collinear.\n",
      "  warnings.warn(\"Variables are collinear.\")\n"
     ]
    },
    {
     "data": {
      "text/plain": [
       "LinearDiscriminantAnalysis(n_components=None, priors=None, shrinkage=None,\n",
       "              solver='svd', store_covariance=False, tol=0.0001)"
      ]
     },
     "execution_count": 45,
     "metadata": {},
     "output_type": "execute_result"
    }
   ],
   "source": [
    "# Train the LDA model\n",
    "lda_clf = LinearDiscriminantAnalysis()\n",
    "lda_clf.fit(X_train, y_train)"
   ]
  },
  {
   "cell_type": "code",
   "execution_count": 46,
   "metadata": {
    "collapsed": false
   },
   "outputs": [
    {
     "name": "stdout",
     "output_type": "stream",
     "text": [
      "Accuracy on train data  86.6080156403\n"
     ]
    }
   ],
   "source": [
    "# Accuracy of prediction on train data\n",
    "y_pred = lda_clf.predict(X_train)\n",
    "print(\"Accuracy on train data \", 100*accuracy_score(y_train, y_pred))"
   ]
  },
  {
   "cell_type": "code",
   "execution_count": 47,
   "metadata": {
    "collapsed": false
   },
   "outputs": [
    {
     "name": "stdout",
     "output_type": "stream",
     "text": [
      "Accuracy on test data  35.546875\n"
     ]
    }
   ],
   "source": [
    "# Accuracy of prediction on test data\n",
    "y_pred = lda_clf.predict(X_test)\n",
    "print(\"Accuracy on test data \", 100*accuracy_score(y_test, y_pred))"
   ]
  },
  {
   "cell_type": "code",
   "execution_count": 48,
   "metadata": {
    "collapsed": false
   },
   "outputs": [
    {
     "data": {
      "text/html": [
       "<div>\n",
       "<style scoped>\n",
       "    .dataframe tbody tr th:only-of-type {\n",
       "        vertical-align: middle;\n",
       "    }\n",
       "\n",
       "    .dataframe tbody tr th {\n",
       "        vertical-align: top;\n",
       "    }\n",
       "\n",
       "    .dataframe thead th {\n",
       "        text-align: right;\n",
       "    }\n",
       "</style>\n",
       "<table border=\"1\" class=\"dataframe\">\n",
       "  <thead>\n",
       "    <tr style=\"text-align: right;\">\n",
       "      <th></th>\n",
       "      <th>Precision</th>\n",
       "    </tr>\n",
       "  </thead>\n",
       "  <tbody>\n",
       "    <tr>\n",
       "      <th>0</th>\n",
       "      <td>0.335878</td>\n",
       "    </tr>\n",
       "    <tr>\n",
       "      <th>1</th>\n",
       "      <td>0.310078</td>\n",
       "    </tr>\n",
       "    <tr>\n",
       "      <th>2</th>\n",
       "      <td>0.370079</td>\n",
       "    </tr>\n",
       "    <tr>\n",
       "      <th>3</th>\n",
       "      <td>0.408000</td>\n",
       "    </tr>\n",
       "  </tbody>\n",
       "</table>\n",
       "</div>"
      ],
      "text/plain": [
       "   Precision\n",
       "0   0.335878\n",
       "1   0.310078\n",
       "2   0.370079\n",
       "3   0.408000"
      ]
     },
     "execution_count": 48,
     "metadata": {},
     "output_type": "execute_result"
    }
   ],
   "source": [
    "# Precision  on test data\n",
    "df = {'Precision': precision_score(y_test.values, y_pred, average=None)}\n",
    "df = pd.DataFrame(data=df)\n",
    "df"
   ]
  },
  {
   "cell_type": "code",
   "execution_count": 49,
   "metadata": {
    "collapsed": false
   },
   "outputs": [
    {
     "data": {
      "text/html": [
       "<div>\n",
       "<style scoped>\n",
       "    .dataframe tbody tr th:only-of-type {\n",
       "        vertical-align: middle;\n",
       "    }\n",
       "\n",
       "    .dataframe tbody tr th {\n",
       "        vertical-align: top;\n",
       "    }\n",
       "\n",
       "    .dataframe thead th {\n",
       "        text-align: right;\n",
       "    }\n",
       "</style>\n",
       "<table border=\"1\" class=\"dataframe\">\n",
       "  <thead>\n",
       "    <tr style=\"text-align: right;\">\n",
       "      <th></th>\n",
       "      <th>0</th>\n",
       "      <th>1</th>\n",
       "      <th>2</th>\n",
       "      <th>3</th>\n",
       "    </tr>\n",
       "  </thead>\n",
       "  <tbody>\n",
       "    <tr>\n",
       "      <th>0</th>\n",
       "      <td>40</td>\n",
       "      <td>33</td>\n",
       "      <td>31</td>\n",
       "      <td>29</td>\n",
       "    </tr>\n",
       "    <tr>\n",
       "      <th>1</th>\n",
       "      <td>26</td>\n",
       "      <td>44</td>\n",
       "      <td>27</td>\n",
       "      <td>22</td>\n",
       "    </tr>\n",
       "    <tr>\n",
       "      <th>2</th>\n",
       "      <td>38</td>\n",
       "      <td>25</td>\n",
       "      <td>47</td>\n",
       "      <td>23</td>\n",
       "    </tr>\n",
       "    <tr>\n",
       "      <th>3</th>\n",
       "      <td>25</td>\n",
       "      <td>29</td>\n",
       "      <td>22</td>\n",
       "      <td>51</td>\n",
       "    </tr>\n",
       "  </tbody>\n",
       "</table>\n",
       "</div>"
      ],
      "text/plain": [
       "    0   1   2   3\n",
       "0  40  33  31  29\n",
       "1  26  44  27  22\n",
       "2  38  25  47  23\n",
       "3  25  29  22  51"
      ]
     },
     "execution_count": 49,
     "metadata": {},
     "output_type": "execute_result"
    }
   ],
   "source": [
    "conf_mat = confusion_matrix(y_test, y_pred, labels=[770,769,771,772])\n",
    "pd.DataFrame(conf_mat)"
   ]
  },
  {
   "cell_type": "markdown",
   "metadata": {},
   "source": [
    "KNN"
   ]
  },
  {
   "cell_type": "code",
   "execution_count": 50,
   "metadata": {
    "collapsed": false,
    "scrolled": true
   },
   "outputs": [
    {
     "name": "stderr",
     "output_type": "stream",
     "text": [
      "C:\\Users\\Unknown user\\Anaconda3\\lib\\site-packages\\ipykernel\\__main__.py:3: DataConversionWarning: A column-vector y was passed when a 1d array was expected. Please change the shape of y to (n_samples, ), for example using ravel().\n",
      "  app.launch_new_instance()\n"
     ]
    },
    {
     "data": {
      "text/plain": [
       "KNeighborsClassifier(algorithm='auto', leaf_size=30, metric='minkowski',\n",
       "           metric_params=None, n_jobs=1, n_neighbors=3, p=2,\n",
       "           weights='uniform')"
      ]
     },
     "execution_count": 50,
     "metadata": {},
     "output_type": "execute_result"
    }
   ],
   "source": [
    "# Train the KNN model\n",
    "knn = KNeighborsClassifier(n_neighbors=3)\n",
    "knn.fit(X_train, y_train) "
   ]
  },
  {
   "cell_type": "code",
   "execution_count": 51,
   "metadata": {
    "collapsed": false
   },
   "outputs": [
    {
     "name": "stdout",
     "output_type": "stream",
     "text": [
      "Accuracy on train data  55.522971652\n"
     ]
    }
   ],
   "source": [
    "# Accuracy of prediction on train data\n",
    "y_pred = knn.predict(X_train)\n",
    "print(\"Accuracy on train data \", 100*accuracy_score(y_pred, y_train ))"
   ]
  },
  {
   "cell_type": "code",
   "execution_count": 52,
   "metadata": {
    "collapsed": false
   },
   "outputs": [
    {
     "name": "stdout",
     "output_type": "stream",
     "text": [
      "Accuracy on test data  27.34375\n"
     ]
    }
   ],
   "source": [
    "# Accuracy of prediction on test data\n",
    "y_pred = knn.predict(X_test)\n",
    "print(\"Accuracy on test data \", 100*accuracy_score(y_pred, y_test ))"
   ]
  },
  {
   "cell_type": "markdown",
   "metadata": {},
   "source": [
    "SVM "
   ]
  },
  {
   "cell_type": "code",
   "execution_count": 53,
   "metadata": {
    "collapsed": false
   },
   "outputs": [
    {
     "name": "stderr",
     "output_type": "stream",
     "text": [
      "C:\\Users\\Unknown user\\Anaconda3\\lib\\site-packages\\sklearn\\utils\\validation.py:547: DataConversionWarning: A column-vector y was passed when a 1d array was expected. Please change the shape of y to (n_samples, ), for example using ravel().\n",
      "  y = column_or_1d(y, warn=True)\n"
     ]
    },
    {
     "data": {
      "text/plain": [
       "SVC(C=1.0, cache_size=200, class_weight=None, coef0=0.0,\n",
       "  decision_function_shape='ovr', degree=3, gamma='auto', kernel='rbf',\n",
       "  max_iter=-1, probability=False, random_state=None, shrinking=True,\n",
       "  tol=0.001, verbose=False)"
      ]
     },
     "execution_count": 53,
     "metadata": {},
     "output_type": "execute_result"
    }
   ],
   "source": [
    "from sklearn import svm\n",
    "clf = svm.SVC()\n",
    "clf.fit(X_train, y_train)  "
   ]
  },
  {
   "cell_type": "code",
   "execution_count": 54,
   "metadata": {
    "collapsed": false
   },
   "outputs": [
    {
     "name": "stdout",
     "output_type": "stream",
     "text": [
      "Accuracy on train data  100.0\n"
     ]
    }
   ],
   "source": [
    "# Accuracy of prediction on train data\n",
    "y_pred = clf.predict(X_train)\n",
    "print(\"Accuracy on train data \", 100*accuracy_score(y_pred, y_train ))"
   ]
  },
  {
   "cell_type": "code",
   "execution_count": 55,
   "metadata": {
    "collapsed": false
   },
   "outputs": [
    {
     "name": "stdout",
     "output_type": "stream",
     "text": [
      "Accuracy on test data  23.2421875\n"
     ]
    }
   ],
   "source": [
    "# Accuracy of prediction on test data\n",
    "y_pred = clf.predict(X_test)\n",
    "print(\"Accuracy on test data \", 100*accuracy_score(y_pred, y_test ))"
   ]
  },
  {
   "cell_type": "markdown",
   "metadata": {},
   "source": [
    "Naive Bayes "
   ]
  },
  {
   "cell_type": "code",
   "execution_count": 56,
   "metadata": {
    "collapsed": false
   },
   "outputs": [
    {
     "name": "stderr",
     "output_type": "stream",
     "text": [
      "C:\\Users\\Unknown user\\Anaconda3\\lib\\site-packages\\sklearn\\utils\\validation.py:547: DataConversionWarning: A column-vector y was passed when a 1d array was expected. Please change the shape of y to (n_samples, ), for example using ravel().\n",
      "  y = column_or_1d(y, warn=True)\n"
     ]
    },
    {
     "data": {
      "text/plain": [
       "GaussianNB(priors=None)"
      ]
     },
     "execution_count": 56,
     "metadata": {},
     "output_type": "execute_result"
    }
   ],
   "source": [
    "from sklearn.naive_bayes import GaussianNB\n",
    "model = GaussianNB()\n",
    "model.fit(X_train, y_train)"
   ]
  },
  {
   "cell_type": "code",
   "execution_count": 57,
   "metadata": {
    "collapsed": false
   },
   "outputs": [
    {
     "name": "stdout",
     "output_type": "stream",
     "text": [
      "Accuracy on train data  31.4760508309\n"
     ]
    }
   ],
   "source": [
    "# Accuracy of prediction on train data\n",
    "y_pred = model.predict(X_train)\n",
    "print(\"Accuracy on train data \", 100*accuracy_score(y_pred, y_train ))"
   ]
  },
  {
   "cell_type": "code",
   "execution_count": 62,
   "metadata": {
    "collapsed": false
   },
   "outputs": [
    {
     "name": "stdout",
     "output_type": "stream",
     "text": [
      "Accuracy on test data  30.46875\n"
     ]
    }
   ],
   "source": [
    "# Accuracy of prediction on train data\n",
    "y_pred = model.predict(X_test)\n",
    "print(\"Accuracy on test data \", 100*accuracy_score(y_pred, y_test ))"
   ]
  },
  {
   "cell_type": "markdown",
   "metadata": {},
   "source": [
    "Decision Tree"
   ]
  },
  {
   "cell_type": "code",
   "execution_count": 64,
   "metadata": {
    "collapsed": false
   },
   "outputs": [
    {
     "data": {
      "text/plain": [
       "DecisionTreeClassifier(class_weight=None, criterion='gini', max_depth=5,\n",
       "            max_features=None, max_leaf_nodes=None,\n",
       "            min_impurity_decrease=0.0, min_impurity_split=None,\n",
       "            min_samples_leaf=1, min_samples_split=2,\n",
       "            min_weight_fraction_leaf=0.0, presort=False, random_state=None,\n",
       "            splitter='best')"
      ]
     },
     "execution_count": 64,
     "metadata": {},
     "output_type": "execute_result"
    }
   ],
   "source": [
    "from sklearn import tree\n",
    "clf = tree.DecisionTreeClassifier(max_depth = 5)\n",
    "clf = clf.fit(X_train, y_train)\n",
    "clf"
   ]
  },
  {
   "cell_type": "code",
   "execution_count": 65,
   "metadata": {
    "collapsed": false
   },
   "outputs": [
    {
     "name": "stdout",
     "output_type": "stream",
     "text": [
      "Accuracy on train data  41.6911045943\n"
     ]
    }
   ],
   "source": [
    "# Accuracy of prediction on train data\n",
    "y_pred = clf.predict(X_train)\n",
    "print(\"Accuracy on train data \", 100*accuracy_score(y_pred, y_train ))"
   ]
  },
  {
   "cell_type": "code",
   "execution_count": 66,
   "metadata": {
    "collapsed": false
   },
   "outputs": [
    {
     "name": "stdout",
     "output_type": "stream",
     "text": [
      "Accuracy on test data  25.390625\n"
     ]
    }
   ],
   "source": [
    "# Accuracy of prediction on test data\n",
    "y_pred = clf.predict(X_test)\n",
    "print(\"Accuracy on test data \", 100*accuracy_score(y_pred, y_test ))"
   ]
  },
  {
   "cell_type": "code",
   "execution_count": null,
   "metadata": {
    "collapsed": true
   },
   "outputs": [],
   "source": []
  }
 ],
 "metadata": {
  "kernelspec": {
   "display_name": "Python 3",
   "language": "python",
   "name": "python3"
  },
  "language_info": {
   "codemirror_mode": {
    "name": "ipython",
    "version": 3
   },
   "file_extension": ".py",
   "mimetype": "text/x-python",
   "name": "python",
   "nbconvert_exporter": "python",
   "pygments_lexer": "ipython3",
   "version": "3.6.0"
  }
 },
 "nbformat": 4,
 "nbformat_minor": 2
}
